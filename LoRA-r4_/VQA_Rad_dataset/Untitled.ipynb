{
 "cells": [
  {
   "cell_type": "code",
   "execution_count": 5,
   "id": "e24af2ce-69c0-4a7e-91d4-93403ced6c5e",
   "metadata": {},
   "outputs": [
    {
     "name": "stdout",
     "output_type": "stream",
     "text": [
      "Fixing missing 'state' key in widgets...\n",
      "Notebook fixed.\n"
     ]
    }
   ],
   "source": [
    "import nbformat\n",
    "\n",
    "nb_path = \"Lora_idefics2_8b_MedR2.ipynb\"  # ← replace with your filename\n",
    "\n",
    "nb = nbformat.read(nb_path, as_version=nbformat.NO_CONVERT)\n",
    "\n",
    "# Check and fix missing \"state\" in widgets\n",
    "widgets = nb.metadata.get(\"widgets\")\n",
    "if widgets:\n",
    "    widget_json = widgets.get(\"application/vnd.jupyter.widget-state+json\")\n",
    "    if widget_json and \"state\" not in widget_json:\n",
    "        print(\"Fixing missing 'state' key in widgets...\")\n",
    "        widget_json[\"state\"] = {}\n",
    "        nbformat.write(nb, nb_path)\n",
    "        print(\"Notebook fixed.\")\n",
    "    else:\n",
    "        print(\"No fix needed.\")\n",
    "else:\n",
    "    print(\"No widgets section — nothing to fix.\")\n"
   ]
  },
  {
   "cell_type": "code",
   "execution_count": null,
   "id": "993ec254-18f0-46cb-b310-569582a6e8ae",
   "metadata": {},
   "outputs": [],
   "source": []
  }
 ],
 "metadata": {
  "kernelspec": {
   "display_name": "Python 3 (ipykernel)",
   "language": "python",
   "name": "python3"
  },
  "language_info": {
   "codemirror_mode": {
    "name": "ipython",
    "version": 3
   },
   "file_extension": ".py",
   "mimetype": "text/x-python",
   "name": "python",
   "nbconvert_exporter": "python",
   "pygments_lexer": "ipython3",
   "version": "3.10.10"
  }
 },
 "nbformat": 4,
 "nbformat_minor": 5
}
