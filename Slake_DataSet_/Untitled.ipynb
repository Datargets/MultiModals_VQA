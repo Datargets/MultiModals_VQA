{
 "cells": [
  {
   "cell_type": "code",
   "execution_count": 11,
   "id": "28776b93-6f6a-4e6b-a035-87ca8216a3a1",
   "metadata": {},
   "outputs": [
    {
     "name": "stdout",
     "output_type": "stream",
     "text": [
      "Fixing missing 'state' key in widgets...\n",
      "Notebook fixed.\n"
     ]
    }
   ],
   "source": [
    "import nbformat\n",
    "\n",
    "nb_path = \"lora_Idefics3_8B_Llama3Slakedataset.ipynb\"  # ← replace with your filename\n",
    "\n",
    "nb = nbformat.read(nb_path, as_version=nbformat.NO_CONVERT)\n",
    "\n",
    "# Check and fix missing \"state\" in widgets\n",
    "widgets = nb.metadata.get(\"widgets\")\n",
    "if widgets:\n",
    "    widget_json = widgets.get(\"application/vnd.jupyter.widget-state+json\")\n",
    "    if widget_json and \"state\" not in widget_json:\n",
    "        print(\"Fixing missing 'state' key in widgets...\")\n",
    "        widget_json[\"state\"] = {}\n",
    "        nbformat.write(nb, nb_path)\n",
    "        print(\"Notebook fixed.\")\n",
    "    else:\n",
    "        print(\"No fix needed.\")\n",
    "else:\n",
    "    print(\"No widgets section — nothing to fix.\")\n"
   ]
  },
  {
   "cell_type": "code",
   "execution_count": null,
   "id": "e556d0a5-266f-4273-abd3-c7df05f516be",
   "metadata": {},
   "outputs": [],
   "source": []
  }
 ],
 "metadata": {
  "kernelspec": {
   "display_name": "Python 3 (ipykernel)",
   "language": "python",
   "name": "python3"
  },
  "language_info": {
   "codemirror_mode": {
    "name": "ipython",
    "version": 3
   },
   "file_extension": ".py",
   "mimetype": "text/x-python",
   "name": "python",
   "nbconvert_exporter": "python",
   "pygments_lexer": "ipython3",
   "version": "3.10.10"
  }
 },
 "nbformat": 4,
 "nbformat_minor": 5
}
